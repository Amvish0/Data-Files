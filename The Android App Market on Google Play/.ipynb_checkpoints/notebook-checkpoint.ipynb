{
 "cells": [
  {
   "cell_type": "markdown",
   "metadata": {
    "dc": {
     "key": "4"
    },
    "deletable": false,
    "editable": false,
    "run_control": {
     "frozen": true
    },
    "tags": [
     "context"
    ]
   },
   "source": [
    "## 1. Introduction\n",
    "<p><img src=\"https://assets.datacamp.com/production/project_1197/img/google_play_store.png\" alt=\"Google Play logo\"></p>\n",
    "<p>Mobile apps are everywhere. They are easy to create and can be very lucrative from the business standpoint. Specifically, Android is expanding as an operating system and has captured more than 74% of the total market<sup><a href=\"https://www.statista.com/statistics/272698/global-market-share-held-by-mobile-operating-systems-since-2009\">[1]</a></sup>. </p>\n",
    "<p>The Google Play Store apps data has enormous potential to facilitate data-driven decisions and insights for businesses. In this notebook, we will analyze the Android app market by comparing ~10k apps in Google Play across different categories. We will also use the user reviews to draw a qualitative comparision between the apps.</p>\n",
    "<p>The dataset you will use here was scraped from Google Play Store in September 2018 and was published on <a href=\"https://www.kaggle.com/lava18/google-play-store-apps\">Kaggle</a>. Here are the details: <br>\n",
    "<br></p>\n",
    "<div style=\"background-color: #efebe4; color: #05192d; text-align:left; vertical-align: middle; padding: 15px 25px 15px 25px; line-height: 1.6;\">\n",
    "    <div style=\"font-size:20px\"><b>datasets/apps.csv</b></div>\n",
    "This file contains all the details of the apps on Google Play. There are 9 features that describe a given app.\n",
    "<ul>\n",
    "    <li><b>App:</b> Name of the app</li>\n",
    "    <li><b>Category:</b> Category of the app. Some examples are: ART_AND_DESIGN, FINANCE, COMICS, BEAUTY etc.</li>\n",
    "    <li><b>Rating:</b> The current average rating (out of 5) of the app on Google Play</li>\n",
    "    <li><b>Reviews:</b> Number of user reviews given on the app</li>\n",
    "    <li><b>Size:</b> Size of the app in MB (megabytes)</li>\n",
    "    <li><b>Installs:</b> Number of times the app was downloaded from Google Play</li>\n",
    "    <li><b>Type:</b> Whether the app is paid or free</li>\n",
    "    <li><b>Price:</b> Price of the app in US$</li>\n",
    "    <li><b>Last Updated:</b> Date on which the app was last updated on Google Play </li>\n",
    "\n",
    "</ul>\n",
    "</div>\n",
    "<div style=\"background-color: #efebe4; color: #05192d; text-align:left; vertical-align: middle; padding: 15px 25px 15px 25px; line-height: 1.6;\">\n",
    "    <div style=\"font-size:20px\"><b>datasets/user_reviews.csv</b></div>\n",
    "This file contains a random sample of 100 <i>[most helpful first](https://www.androidpolice.com/2019/01/21/google-play-stores-redesigned-ratings-and-reviews-section-lets-you-easily-filter-by-star-rating/)</i> user reviews for each app. The text in each review has been pre-processed and passed through a sentiment analyzer.\n",
    "<ul>\n",
    "    <li><b>App:</b> Name of the app on which the user review was provided. Matches the `App` column of the `apps.csv` file</li>\n",
    "    <li><b>Review:</b> The pre-processed user review text</li>\n",
    "    <li><b>Sentiment Category:</b> Sentiment category of the user review - Positive, Negative or Neutral</li>\n",
    "    <li><b>Sentiment Score:</b> Sentiment score of the user review. It lies between [-1,1]. A higher score denotes a more positive sentiment.</li>\n",
    "\n",
    "</ul>\n",
    "</div>\n",
    "<p>From here on, it will be your task to explore and manipulate the data until you are able to answer the three questions described in the instructions panel.<br></p>"
   ]
  },
  {
   "cell_type": "code",
   "execution_count": null,
   "metadata": {
    "dc": {
     "key": "4"
    },
    "tags": [
     "sample_code"
    ]
   },
   "outputs": [],
   "source": [
    "# Import the nessary python modules \n",
    "import pandas as pd\n",
    "import numpy as np\n",
    "apps= pd.read_csv('http://localhost:8888/edit/Desktop/Data%20Science%20Project/The%20Android%20App%20Market%20on%20Google%20Play/datasets/apps.csv')\n",
    "apps.head()\n"
   ]
  },
  {
   "cell_type": "code",
   "execution_count": 88,
   "metadata": {
    "dc": {
     "key": "4"
    }
   },
   "outputs": [
    {
     "name": "stdout",
     "output_type": "stream",
     "text": [
      "<class 'pandas.core.frame.DataFrame'>\n",
      "RangeIndex: 9659 entries, 0 to 9658\n",
      "Data columns (total 9 columns):\n",
      "App             9659 non-null object\n",
      "Category        9659 non-null object\n",
      "Rating          8196 non-null float64\n",
      "Reviews         9659 non-null int64\n",
      "Size            8432 non-null float64\n",
      "Installs        9659 non-null object\n",
      "Type            9659 non-null object\n",
      "Price           9659 non-null float64\n",
      "Last Updated    9659 non-null object\n",
      "dtypes: float64(3), int64(1), object(5)\n",
      "memory usage: 679.2+ KB\n"
     ]
    }
   ],
   "source": [
    "# lets what type of data in file\n",
    "apps.info()"
   ]
  },
  {
   "cell_type": "code",
   "execution_count": 103,
   "metadata": {
    "dc": {
     "key": "4"
    }
   },
   "outputs": [
    {
     "data": {
      "text/html": [
       "<div>\n",
       "<style scoped>\n",
       "    .dataframe tbody tr th:only-of-type {\n",
       "        vertical-align: middle;\n",
       "    }\n",
       "\n",
       "    .dataframe tbody tr th {\n",
       "        vertical-align: top;\n",
       "    }\n",
       "\n",
       "    .dataframe thead th {\n",
       "        text-align: right;\n",
       "    }\n",
       "</style>\n",
       "<table border=\"1\" class=\"dataframe\">\n",
       "  <thead>\n",
       "    <tr style=\"text-align: right;\">\n",
       "      <th></th>\n",
       "      <th>App</th>\n",
       "      <th>Category</th>\n",
       "      <th>Rating</th>\n",
       "      <th>Reviews</th>\n",
       "      <th>Size</th>\n",
       "      <th>Installs</th>\n",
       "      <th>Type</th>\n",
       "      <th>Price</th>\n",
       "      <th>Last Updated</th>\n",
       "    </tr>\n",
       "  </thead>\n",
       "  <tbody>\n",
       "    <tr>\n",
       "      <th>0</th>\n",
       "      <td>Photo Editor &amp; Candy Camera &amp; Grid &amp; ScrapBook</td>\n",
       "      <td>ART_AND_DESIGN</td>\n",
       "      <td>4.1</td>\n",
       "      <td>159</td>\n",
       "      <td>19.0</td>\n",
       "      <td>10000</td>\n",
       "      <td>Free</td>\n",
       "      <td>0.0</td>\n",
       "      <td>January 7, 2018</td>\n",
       "    </tr>\n",
       "    <tr>\n",
       "      <th>1</th>\n",
       "      <td>Coloring book moana</td>\n",
       "      <td>ART_AND_DESIGN</td>\n",
       "      <td>3.9</td>\n",
       "      <td>967</td>\n",
       "      <td>14.0</td>\n",
       "      <td>500000</td>\n",
       "      <td>Free</td>\n",
       "      <td>0.0</td>\n",
       "      <td>January 15, 2018</td>\n",
       "    </tr>\n",
       "    <tr>\n",
       "      <th>2</th>\n",
       "      <td>U Launcher Lite – FREE Live Cool Themes, Hide ...</td>\n",
       "      <td>ART_AND_DESIGN</td>\n",
       "      <td>4.7</td>\n",
       "      <td>87510</td>\n",
       "      <td>8.7</td>\n",
       "      <td>5000000</td>\n",
       "      <td>Free</td>\n",
       "      <td>0.0</td>\n",
       "      <td>August 1, 2018</td>\n",
       "    </tr>\n",
       "    <tr>\n",
       "      <th>3</th>\n",
       "      <td>Sketch - Draw &amp; Paint</td>\n",
       "      <td>ART_AND_DESIGN</td>\n",
       "      <td>4.5</td>\n",
       "      <td>215644</td>\n",
       "      <td>25.0</td>\n",
       "      <td>50000000</td>\n",
       "      <td>Free</td>\n",
       "      <td>0.0</td>\n",
       "      <td>June 8, 2018</td>\n",
       "    </tr>\n",
       "    <tr>\n",
       "      <th>4</th>\n",
       "      <td>Pixel Draw - Number Art Coloring Book</td>\n",
       "      <td>ART_AND_DESIGN</td>\n",
       "      <td>4.3</td>\n",
       "      <td>967</td>\n",
       "      <td>2.8</td>\n",
       "      <td>100000</td>\n",
       "      <td>Free</td>\n",
       "      <td>0.0</td>\n",
       "      <td>June 20, 2018</td>\n",
       "    </tr>\n",
       "  </tbody>\n",
       "</table>\n",
       "</div>"
      ],
      "text/plain": [
       "                                                 App        Category  Rating  \\\n",
       "0     Photo Editor & Candy Camera & Grid & ScrapBook  ART_AND_DESIGN     4.1   \n",
       "1                                Coloring book moana  ART_AND_DESIGN     3.9   \n",
       "2  U Launcher Lite – FREE Live Cool Themes, Hide ...  ART_AND_DESIGN     4.7   \n",
       "3                              Sketch - Draw & Paint  ART_AND_DESIGN     4.5   \n",
       "4              Pixel Draw - Number Art Coloring Book  ART_AND_DESIGN     4.3   \n",
       "\n",
       "   Reviews  Size  Installs  Type  Price      Last Updated  \n",
       "0      159  19.0     10000  Free    0.0   January 7, 2018  \n",
       "1      967  14.0    500000  Free    0.0  January 15, 2018  \n",
       "2    87510   8.7   5000000  Free    0.0    August 1, 2018  \n",
       "3   215644  25.0  50000000  Free    0.0      June 8, 2018  \n",
       "4      967   2.8    100000  Free    0.0     June 20, 2018  "
      ]
     },
     "execution_count": 103,
     "metadata": {},
     "output_type": "execute_result"
    }
   ],
   "source": [
    "#clean and clear column which contain unnecessary data\n",
    "clean_column = [',','+']\n",
    "for char in clean_column:\n",
    "    apps['Installs']=apps['Installs'].apply(lambda x: x.replace(char,''))\n",
    "apps.head()"
   ]
  },
  {
   "cell_type": "code",
   "execution_count": null,
   "metadata": {
    "dc": {
     "key": "4"
    }
   },
   "outputs": [],
   "source": [
    "#convert Installs column object to integer\n",
    "apps['Installs'] =apps['Installs'].astype(int)\n",
    "aps.info()"
   ]
  },
  {
   "cell_type": "code",
   "execution_count": null,
   "metadata": {
    "dc": {
     "key": "4"
    }
   },
   "outputs": [],
   "source": []
  },
  {
   "cell_type": "code",
   "execution_count": 1,
   "metadata": {
    "dc": {
     "key": "4"
    }
   },
   "outputs": [
    {
     "ename": "NameError",
     "evalue": "name 'pd' is not defined",
     "output_type": "error",
     "traceback": [
      "\u001b[1;31m---------------------------------------------------------------------------\u001b[0m",
      "\u001b[1;31mNameError\u001b[0m                                 Traceback (most recent call last)",
      "\u001b[1;32m<ipython-input-1-2d311db89321>\u001b[0m in \u001b[0;36m<module>\u001b[1;34m()\u001b[0m\n\u001b[0;32m      1\u001b[0m \u001b[1;31m#load the review file\u001b[0m\u001b[1;33m\u001b[0m\u001b[1;33m\u001b[0m\u001b[0m\n\u001b[1;32m----> 2\u001b[1;33m \u001b[0mreview\u001b[0m \u001b[1;33m=\u001b[0m \u001b[0mpd\u001b[0m\u001b[1;33m.\u001b[0m\u001b[0mread_csv\u001b[0m\u001b[1;33m(\u001b[0m\u001b[1;34m'datasets/user_reviews.csv'\u001b[0m\u001b[1;33m)\u001b[0m\u001b[1;33m\u001b[0m\u001b[0m\n\u001b[0m\u001b[0;32m      3\u001b[0m \u001b[0mreview\u001b[0m\u001b[1;33m.\u001b[0m\u001b[0mhead\u001b[0m\u001b[1;33m(\u001b[0m\u001b[1;33m)\u001b[0m\u001b[1;33m\u001b[0m\u001b[0m\n",
      "\u001b[1;31mNameError\u001b[0m: name 'pd' is not defined"
     ]
    }
   ],
   "source": [
    "#load the review file \n",
    "review = pd.read_csv('datasets/user_reviews.csv')\n",
    "review.head()\n",
    "\n"
   ]
  },
  {
   "cell_type": "code",
   "execution_count": 93,
   "metadata": {
    "dc": {
     "key": "4"
    }
   },
   "outputs": [
    {
     "name": "stdout",
     "output_type": "stream",
     "text": [
      "<class 'pandas.core.frame.DataFrame'>\n",
      "RangeIndex: 64295 entries, 0 to 64294\n",
      "Data columns (total 4 columns):\n",
      "App                   64295 non-null object\n",
      "Review                37427 non-null object\n",
      "Sentiment Category    37432 non-null object\n",
      "Sentiment Score       37432 non-null float64\n",
      "dtypes: float64(1), object(3)\n",
      "memory usage: 2.0+ MB\n"
     ]
    }
   ],
   "source": [
    "review.info()"
   ]
  },
  {
   "cell_type": "code",
   "execution_count": 94,
   "metadata": {
    "dc": {
     "key": "4"
    }
   },
   "outputs": [
    {
     "data": {
      "text/html": [
       "<div>\n",
       "<style scoped>\n",
       "    .dataframe tbody tr th:only-of-type {\n",
       "        vertical-align: middle;\n",
       "    }\n",
       "\n",
       "    .dataframe tbody tr th {\n",
       "        vertical-align: top;\n",
       "    }\n",
       "\n",
       "    .dataframe thead th {\n",
       "        text-align: right;\n",
       "    }\n",
       "</style>\n",
       "<table border=\"1\" class=\"dataframe\">\n",
       "  <thead>\n",
       "    <tr style=\"text-align: right;\">\n",
       "      <th></th>\n",
       "      <th>App</th>\n",
       "      <th>Category</th>\n",
       "      <th>Rating</th>\n",
       "      <th>Reviews</th>\n",
       "      <th>Size</th>\n",
       "      <th>Installs</th>\n",
       "      <th>Type</th>\n",
       "      <th>Price</th>\n",
       "      <th>Last Updated</th>\n",
       "    </tr>\n",
       "  </thead>\n",
       "  <tbody>\n",
       "    <tr>\n",
       "      <th>837</th>\n",
       "      <td>K PLUS</td>\n",
       "      <td>FINANCE</td>\n",
       "      <td>4.4</td>\n",
       "      <td>124424</td>\n",
       "      <td>NaN</td>\n",
       "      <td>10000000</td>\n",
       "      <td>Free</td>\n",
       "      <td>0.0</td>\n",
       "      <td>June 26, 2018</td>\n",
       "    </tr>\n",
       "    <tr>\n",
       "      <th>838</th>\n",
       "      <td>ING Banking</td>\n",
       "      <td>FINANCE</td>\n",
       "      <td>4.4</td>\n",
       "      <td>39041</td>\n",
       "      <td>NaN</td>\n",
       "      <td>1000000</td>\n",
       "      <td>Free</td>\n",
       "      <td>0.0</td>\n",
       "      <td>August 3, 2018</td>\n",
       "    </tr>\n",
       "    <tr>\n",
       "      <th>839</th>\n",
       "      <td>Citibanamex Movil</td>\n",
       "      <td>FINANCE</td>\n",
       "      <td>3.6</td>\n",
       "      <td>52306</td>\n",
       "      <td>42.0</td>\n",
       "      <td>5000000</td>\n",
       "      <td>Free</td>\n",
       "      <td>0.0</td>\n",
       "      <td>July 27, 2018</td>\n",
       "    </tr>\n",
       "    <tr>\n",
       "      <th>840</th>\n",
       "      <td>The postal bank</td>\n",
       "      <td>FINANCE</td>\n",
       "      <td>3.7</td>\n",
       "      <td>36718</td>\n",
       "      <td>NaN</td>\n",
       "      <td>5000000</td>\n",
       "      <td>Free</td>\n",
       "      <td>0.0</td>\n",
       "      <td>July 16, 2018</td>\n",
       "    </tr>\n",
       "    <tr>\n",
       "      <th>841</th>\n",
       "      <td>KTB Netbank</td>\n",
       "      <td>FINANCE</td>\n",
       "      <td>3.8</td>\n",
       "      <td>42644</td>\n",
       "      <td>19.0</td>\n",
       "      <td>5000000</td>\n",
       "      <td>Free</td>\n",
       "      <td>0.0</td>\n",
       "      <td>June 28, 2018</td>\n",
       "    </tr>\n",
       "  </tbody>\n",
       "</table>\n",
       "</div>"
      ],
      "text/plain": [
       "                   App Category  Rating  Reviews  Size  Installs  Type  Price  \\\n",
       "837             K PLUS  FINANCE     4.4   124424   NaN  10000000  Free    0.0   \n",
       "838        ING Banking  FINANCE     4.4    39041   NaN   1000000  Free    0.0   \n",
       "839  Citibanamex Movil  FINANCE     3.6    52306  42.0   5000000  Free    0.0   \n",
       "840    The postal bank  FINANCE     3.7    36718   NaN   5000000  Free    0.0   \n",
       "841        KTB Netbank  FINANCE     3.8    42644  19.0   5000000  Free    0.0   \n",
       "\n",
       "       Last Updated  \n",
       "837   June 26, 2018  \n",
       "838  August 3, 2018  \n",
       "839   July 27, 2018  \n",
       "840   July 16, 2018  \n",
       "841   June 28, 2018  "
      ]
     },
     "execution_count": 94,
     "metadata": {},
     "output_type": "execute_result"
    }
   ],
   "source": [
    "finance_app = df[df['Category'] =='FINANCE']\n",
    "free_finance_app= finance_app[finance_app['Type']==\"Free\"]\n",
    "free_finance_app.head()"
   ]
  },
  {
   "cell_type": "code",
   "execution_count": 95,
   "metadata": {
    "dc": {
     "key": "4"
    }
   },
   "outputs": [
    {
     "data": {
      "text/html": [
       "<div>\n",
       "<style scoped>\n",
       "    .dataframe tbody tr th:only-of-type {\n",
       "        vertical-align: middle;\n",
       "    }\n",
       "\n",
       "    .dataframe tbody tr th {\n",
       "        vertical-align: top;\n",
       "    }\n",
       "\n",
       "    .dataframe thead th {\n",
       "        text-align: right;\n",
       "    }\n",
       "</style>\n",
       "<table border=\"1\" class=\"dataframe\">\n",
       "  <thead>\n",
       "    <tr style=\"text-align: right;\">\n",
       "      <th></th>\n",
       "      <th>App</th>\n",
       "      <th>Category</th>\n",
       "      <th>Rating</th>\n",
       "      <th>Reviews</th>\n",
       "      <th>Size</th>\n",
       "      <th>Installs</th>\n",
       "      <th>Type</th>\n",
       "      <th>Price</th>\n",
       "      <th>Last Updated</th>\n",
       "      <th>Review</th>\n",
       "      <th>Sentiment Category</th>\n",
       "      <th>Sentiment Score</th>\n",
       "    </tr>\n",
       "  </thead>\n",
       "  <tbody>\n",
       "    <tr>\n",
       "      <th>0</th>\n",
       "      <td>Citibanamex Movil</td>\n",
       "      <td>FINANCE</td>\n",
       "      <td>3.6</td>\n",
       "      <td>52306</td>\n",
       "      <td>42.0</td>\n",
       "      <td>5000000</td>\n",
       "      <td>Free</td>\n",
       "      <td>0.0</td>\n",
       "      <td>July 27, 2018</td>\n",
       "      <td>Forget paying app, designed make fail payments...</td>\n",
       "      <td>Negative</td>\n",
       "      <td>-0.500000</td>\n",
       "    </tr>\n",
       "    <tr>\n",
       "      <th>1</th>\n",
       "      <td>Citibanamex Movil</td>\n",
       "      <td>FINANCE</td>\n",
       "      <td>3.6</td>\n",
       "      <td>52306</td>\n",
       "      <td>42.0</td>\n",
       "      <td>5000000</td>\n",
       "      <td>Free</td>\n",
       "      <td>0.0</td>\n",
       "      <td>July 27, 2018</td>\n",
       "      <td>It's working expected, talking best bank Mexic...</td>\n",
       "      <td>Positive</td>\n",
       "      <td>0.400000</td>\n",
       "    </tr>\n",
       "    <tr>\n",
       "      <th>2</th>\n",
       "      <td>Citibanamex Movil</td>\n",
       "      <td>FINANCE</td>\n",
       "      <td>3.6</td>\n",
       "      <td>52306</td>\n",
       "      <td>42.0</td>\n",
       "      <td>5000000</td>\n",
       "      <td>Free</td>\n",
       "      <td>0.0</td>\n",
       "      <td>July 27, 2018</td>\n",
       "      <td>It has many problems with Android 8.1. You can...</td>\n",
       "      <td>Positive</td>\n",
       "      <td>0.250000</td>\n",
       "    </tr>\n",
       "    <tr>\n",
       "      <th>3</th>\n",
       "      <td>Citibanamex Movil</td>\n",
       "      <td>FINANCE</td>\n",
       "      <td>3.6</td>\n",
       "      <td>52306</td>\n",
       "      <td>42.0</td>\n",
       "      <td>5000000</td>\n",
       "      <td>Free</td>\n",
       "      <td>0.0</td>\n",
       "      <td>July 27, 2018</td>\n",
       "      <td>I changed my phone to a Xiaomi Redmi Note 5, t...</td>\n",
       "      <td>Positive</td>\n",
       "      <td>0.175000</td>\n",
       "    </tr>\n",
       "    <tr>\n",
       "      <th>4</th>\n",
       "      <td>Citibanamex Movil</td>\n",
       "      <td>FINANCE</td>\n",
       "      <td>3.6</td>\n",
       "      <td>52306</td>\n",
       "      <td>42.0</td>\n",
       "      <td>5000000</td>\n",
       "      <td>Free</td>\n",
       "      <td>0.0</td>\n",
       "      <td>July 27, 2018</td>\n",
       "      <td>In her eagerness to make her look pretty with ...</td>\n",
       "      <td>Negative</td>\n",
       "      <td>-0.158333</td>\n",
       "    </tr>\n",
       "  </tbody>\n",
       "</table>\n",
       "</div>"
      ],
      "text/plain": [
       "                 App Category  Rating  Reviews  Size  Installs  Type  Price  \\\n",
       "0  Citibanamex Movil  FINANCE     3.6    52306  42.0   5000000  Free    0.0   \n",
       "1  Citibanamex Movil  FINANCE     3.6    52306  42.0   5000000  Free    0.0   \n",
       "2  Citibanamex Movil  FINANCE     3.6    52306  42.0   5000000  Free    0.0   \n",
       "3  Citibanamex Movil  FINANCE     3.6    52306  42.0   5000000  Free    0.0   \n",
       "4  Citibanamex Movil  FINANCE     3.6    52306  42.0   5000000  Free    0.0   \n",
       "\n",
       "    Last Updated                                             Review  \\\n",
       "0  July 27, 2018  Forget paying app, designed make fail payments...   \n",
       "1  July 27, 2018  It's working expected, talking best bank Mexic...   \n",
       "2  July 27, 2018  It has many problems with Android 8.1. You can...   \n",
       "3  July 27, 2018  I changed my phone to a Xiaomi Redmi Note 5, t...   \n",
       "4  July 27, 2018  In her eagerness to make her look pretty with ...   \n",
       "\n",
       "  Sentiment Category  Sentiment Score  \n",
       "0           Negative        -0.500000  \n",
       "1           Positive         0.400000  \n",
       "2           Positive         0.250000  \n",
       "3           Positive         0.175000  \n",
       "4           Negative        -0.158333  "
      ]
     },
     "execution_count": 95,
     "metadata": {},
     "output_type": "execute_result"
    }
   ],
   "source": [
    "#merge the two dataframe for further analyis\n",
    "merge_df =pd.merge(free_finance_app, review, on='App')\n",
    "merge_df.head()"
   ]
  },
  {
   "cell_type": "code",
   "execution_count": 96,
   "metadata": {
    "dc": {
     "key": "4"
    }
   },
   "outputs": [],
   "source": [
    "app_sentiment_score = merge_df.groupby('App').agg({'Sentiment Score':'mean'})\n"
   ]
  },
  {
   "cell_type": "code",
   "execution_count": 97,
   "metadata": {
    "dc": {
     "key": "4"
    }
   },
   "outputs": [
    {
     "data": {
      "text/html": [
       "<div>\n",
       "<style scoped>\n",
       "    .dataframe tbody tr th:only-of-type {\n",
       "        vertical-align: middle;\n",
       "    }\n",
       "\n",
       "    .dataframe tbody tr th {\n",
       "        vertical-align: top;\n",
       "    }\n",
       "\n",
       "    .dataframe thead th {\n",
       "        text-align: right;\n",
       "    }\n",
       "</style>\n",
       "<table border=\"1\" class=\"dataframe\">\n",
       "  <thead>\n",
       "    <tr style=\"text-align: right;\">\n",
       "      <th></th>\n",
       "      <th>Sentiment Score</th>\n",
       "    </tr>\n",
       "    <tr>\n",
       "      <th>App</th>\n",
       "      <th></th>\n",
       "    </tr>\n",
       "  </thead>\n",
       "  <tbody>\n",
       "    <tr>\n",
       "      <th>BBVA Spain</th>\n",
       "      <td>0.515086</td>\n",
       "    </tr>\n",
       "    <tr>\n",
       "      <th>Associated Credit Union Mobile</th>\n",
       "      <td>0.388093</td>\n",
       "    </tr>\n",
       "    <tr>\n",
       "      <th>BankMobile Vibe App</th>\n",
       "      <td>0.353455</td>\n",
       "    </tr>\n",
       "    <tr>\n",
       "      <th>A+ Mobile</th>\n",
       "      <td>0.329592</td>\n",
       "    </tr>\n",
       "    <tr>\n",
       "      <th>Current debit card and app made for teens</th>\n",
       "      <td>0.327258</td>\n",
       "    </tr>\n",
       "  </tbody>\n",
       "</table>\n",
       "</div>"
      ],
      "text/plain": [
       "                                           Sentiment Score\n",
       "App                                                       \n",
       "BBVA Spain                                        0.515086\n",
       "Associated Credit Union Mobile                    0.388093\n",
       "BankMobile Vibe App                               0.353455\n",
       "A+ Mobile                                         0.329592\n",
       "Current debit card and app made for teens         0.327258"
      ]
     },
     "execution_count": 97,
     "metadata": {},
     "output_type": "execute_result"
    }
   ],
   "source": [
    "user_feedback =app_sentiment_score.sort_values(by='Sentiment Score', ascending=False)\n",
    "user_feedback.head()"
   ]
  },
  {
   "cell_type": "code",
   "execution_count": 98,
   "metadata": {
    "dc": {
     "key": "4"
    }
   },
   "outputs": [
    {
     "data": {
      "text/html": [
       "<div>\n",
       "<style scoped>\n",
       "    .dataframe tbody tr th:only-of-type {\n",
       "        vertical-align: middle;\n",
       "    }\n",
       "\n",
       "    .dataframe tbody tr th {\n",
       "        vertical-align: top;\n",
       "    }\n",
       "\n",
       "    .dataframe thead th {\n",
       "        text-align: right;\n",
       "    }\n",
       "</style>\n",
       "<table border=\"1\" class=\"dataframe\">\n",
       "  <thead>\n",
       "    <tr style=\"text-align: right;\">\n",
       "      <th></th>\n",
       "      <th>Sentiment Score</th>\n",
       "    </tr>\n",
       "    <tr>\n",
       "      <th>App</th>\n",
       "      <th></th>\n",
       "    </tr>\n",
       "  </thead>\n",
       "  <tbody>\n",
       "    <tr>\n",
       "      <th>BBVA Spain</th>\n",
       "      <td>0.515086</td>\n",
       "    </tr>\n",
       "    <tr>\n",
       "      <th>Associated Credit Union Mobile</th>\n",
       "      <td>0.388093</td>\n",
       "    </tr>\n",
       "    <tr>\n",
       "      <th>BankMobile Vibe App</th>\n",
       "      <td>0.353455</td>\n",
       "    </tr>\n",
       "    <tr>\n",
       "      <th>A+ Mobile</th>\n",
       "      <td>0.329592</td>\n",
       "    </tr>\n",
       "    <tr>\n",
       "      <th>Current debit card and app made for teens</th>\n",
       "      <td>0.327258</td>\n",
       "    </tr>\n",
       "    <tr>\n",
       "      <th>BZWBK24 mobile</th>\n",
       "      <td>0.326883</td>\n",
       "    </tr>\n",
       "    <tr>\n",
       "      <th>Even - organize your money, get paid early</th>\n",
       "      <td>0.283929</td>\n",
       "    </tr>\n",
       "    <tr>\n",
       "      <th>Credit Karma</th>\n",
       "      <td>0.270052</td>\n",
       "    </tr>\n",
       "    <tr>\n",
       "      <th>Fortune City - A Finance App</th>\n",
       "      <td>0.266966</td>\n",
       "    </tr>\n",
       "    <tr>\n",
       "      <th>Branch</th>\n",
       "      <td>0.264230</td>\n",
       "    </tr>\n",
       "  </tbody>\n",
       "</table>\n",
       "</div>"
      ],
      "text/plain": [
       "                                            Sentiment Score\n",
       "App                                                        \n",
       "BBVA Spain                                         0.515086\n",
       "Associated Credit Union Mobile                     0.388093\n",
       "BankMobile Vibe App                                0.353455\n",
       "A+ Mobile                                          0.329592\n",
       "Current debit card and app made for teens          0.327258\n",
       "BZWBK24 mobile                                     0.326883\n",
       "Even - organize your money, get paid early         0.283929\n",
       "Credit Karma                                       0.270052\n",
       "Fortune City - A Finance App                       0.266966\n",
       "Branch                                             0.264230"
      ]
     },
     "execution_count": 98,
     "metadata": {},
     "output_type": "execute_result"
    }
   ],
   "source": [
    "top_10_user_feedback =user_feedback[:10]\n",
    "top_10_user_feedback"
   ]
  }
 ],
 "metadata": {
  "kernelspec": {
   "display_name": "Python 3",
   "language": "python",
   "name": "python3"
  },
  "language_info": {
   "codemirror_mode": {
    "name": "ipython",
    "version": 3
   },
   "file_extension": ".py",
   "mimetype": "text/x-python",
   "name": "python",
   "nbconvert_exporter": "python",
   "pygments_lexer": "ipython3",
   "version": "3.6.5"
  }
 },
 "nbformat": 4,
 "nbformat_minor": 2
}
